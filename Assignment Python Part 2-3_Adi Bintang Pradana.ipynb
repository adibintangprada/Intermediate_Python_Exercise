{
 "cells": [
  {
   "cell_type": "markdown",
   "metadata": {},
   "source": [
    "# No. 1"
   ]
  },
  {
   "cell_type": "code",
   "execution_count": 2,
   "metadata": {},
   "outputs": [
    {
     "name": "stdout",
     "output_type": "stream",
     "text": [
      "enter no. of rows : 8\n",
      "1   \n",
      "2   9   \n",
      "3   10  16  \n",
      "4   11  17  22  \n",
      "5   12  18  23  27  \n",
      "6   13  19  24  28  31  \n",
      "7   14  20  25  29  32  34  \n",
      "8   15  21  26  30  33  35  36  \n"
     ]
    }
   ],
   "source": [
    "num=int(input(\"enter no. of rows : \"))\n",
    "for i in range(num):\n",
    "    val=i+1\n",
    "    for j in range(i+1):\n",
    "        print(format(val, \"<4\"), end=\"\")\n",
    "        val=val+((num-1)-j)\n",
    "    print()"
   ]
  },
  {
   "cell_type": "code",
   "execution_count": 7,
   "metadata": {},
   "outputs": [
    {
     "name": "stdout",
     "output_type": "stream",
     "text": [
      "enter no. of rows : 8\n",
      "1 \n",
      "2 9 \n",
      "3 10 16 \n",
      "4 11 17 22 \n",
      "5 12 18 23 27 \n",
      "6 13 19 24 28 31 \n",
      "7 14 20 25 29 32 34 \n",
      "8 15 21 26 30 33 35 36 \n"
     ]
    }
   ],
   "source": [
    "row = int(input('enter no. of rows : '))\n",
    "for i in range(row):\n",
    "    x = i+1\n",
    "    y = row-1\n",
    "    for j in range(i+1):\n",
    "        print(x, end= ' ')\n",
    "        x = x+y\n",
    "        y = y-1\n",
    "    print()"
   ]
  },
  {
   "cell_type": "code",
   "execution_count": 6,
   "metadata": {},
   "outputs": [
    {
     "name": "stdout",
     "output_type": "stream",
     "text": [
      "1 \n",
      "\n",
      "2 9 \n",
      "\n",
      "3 10 16 \n",
      "\n",
      "4 11 17 22 \n",
      "\n",
      "5 12 18 23 27 \n",
      "\n",
      "6 13 19 24 28 31 \n",
      "\n",
      "7 14 20 25 29 32 34 \n",
      "\n",
      "8 15 21 26 30 33 35 36 \n",
      "\n"
     ]
    }
   ],
   "source": [
    "def func(n):\n",
    "    for i in range(1,n+1):\n",
    "        for j in range(1,i+1):\n",
    "            print(int(i+(j-1)*(n-1)-(j-1)*(j-2)/2), end=' ')\n",
    "        print('\\n')\n",
    "\n",
    "func(8)"
   ]
  },
  {
   "cell_type": "code",
   "execution_count": 1,
   "metadata": {},
   "outputs": [
    {
     "name": "stdout",
     "output_type": "stream",
     "text": [
      "1 \n",
      "\n",
      "2 9 \n",
      "\n",
      "3 10 16 \n",
      "\n",
      "4 11 17 22 \n",
      "\n",
      "5 12 18 23 27 \n",
      "\n",
      "6 13 19 24 28 31 \n",
      "\n",
      "7 14 20 25 29 32 34 \n",
      "\n",
      "8 15 21 26 30 33 35 36 \n",
      "\n"
     ]
    }
   ],
   "source": [
    "n = 8\n",
    "mat = {}\n",
    "t = 8\n",
    "for i in range(n):\n",
    "    x=i+1\n",
    "    mat[i,0]=x\n",
    "    for j in range(i+1):\n",
    "        y = 6\n",
    "        if j == 0:\n",
    "            mat[i,j+1]= t\n",
    "            u = t\n",
    "        else:\n",
    "            u = u + 6 - (j-1)\n",
    "            mat[i,j+1] = u\n",
    "    t = t+1\n",
    "\n",
    "for k in range(n):\n",
    "    for l in range(k+1):\n",
    "        print(mat[k,l], end= ' ')\n",
    "    print('\\n')"
   ]
  },
  {
   "cell_type": "markdown",
   "metadata": {},
   "source": [
    "# No. 2"
   ]
  },
  {
   "cell_type": "code",
   "execution_count": 3,
   "metadata": {},
   "outputs": [
    {
     "name": "stdout",
     "output_type": "stream",
     "text": [
      "masukkan jumlah anak ayam: 12\n",
      "tek kotek kotek kotek\n",
      "anak ayam turun 12 mati 1 tinggal 11\n",
      "anak ayam turun 11 mati 1 tinggal 10\n",
      "anak ayam turun 10 mati 1 tinggal 9\n",
      "anak ayam turun 9 mati 1 tinggal 8\n",
      "anak ayam turun 8 mati 1 tinggal 7\n",
      "anak ayam turun 7 mati 1 tinggal 6\n",
      "anak ayam turun 6 mati 1 tinggal 5\n",
      "anak ayam turun 5 mati 1 tinggal 4\n",
      "anak ayam turun 4 mati 1 tinggal 3\n",
      "anak ayam turun 3 mati 1 tinggal 2\n",
      "anak ayam turun 2 mati 1 tinggal 1\n",
      "anak ayam turun 1 mati 1 tinggal induknya\n",
      "Anak ayam lucu banget deh ;)\n"
     ]
    }
   ],
   "source": [
    "a = int(input(\"masukkan jumlah anak ayam: \"))\n",
    "print(\"tek kotek kotek kotek\")\n",
    "if a>=2:\n",
    "    while a>1:\n",
    "        print(\"anak ayam turun %d mati 1 tinggal %d\"%(a,a-1))\n",
    "        a = a - 1\n",
    "        if a<=1:\n",
    "            print(\"anak ayam turun %d mati 1 tinggal induknya\"%(a))\n",
    "            print(\"Anak ayam lucu banget deh ;)\")\n",
    "else:\n",
    "    print(\"anak ayam ada %d beli lagi aja yang banyak\"%(a))"
   ]
  },
  {
   "cell_type": "code",
   "execution_count": 8,
   "metadata": {},
   "outputs": [
    {
     "name": "stdout",
     "output_type": "stream",
     "text": [
      "masukan jumlah anak ayam : 12\n",
      "tek kotek kotek kotek\n",
      "anak ayam turun 12 mati 1 tinggal 11\n",
      "anak ayam turun 11 mati 1 tinggal 10\n",
      "anak ayam turun 10 mati 1 tinggal 9\n",
      "anak ayam turun 9 mati 1 tinggal 8\n",
      "anak ayam turun 8 mati 1 tinggal 7\n",
      "anak ayam turun 7 mati 1 tinggal 6\n",
      "anak ayam turun 6 mati 1 tinggal 5\n",
      "anak ayam turun 5 mati 1 tinggal 4\n",
      "anak ayam turun 4 mati 1 tinggal 3\n",
      "anak ayam turun 3 mati 1 tinggal 2\n",
      "anak ayam turun 2 mati 1 tinggal 1\n",
      "anak ayam turun 1 mati 1 tinggal induknya \n",
      "anak ayam lucu banget deh ;)\n"
     ]
    }
   ],
   "source": [
    "anakayam = int(input('masukan jumlah anak ayam : '))\n",
    "print('tek kotek kotek kotek')\n",
    "i = 1\n",
    "while i<=anakayam :\n",
    "    print('anak ayam turun', anakayam, 'mati 1 tinggal', anakayam-i)\n",
    "    anakayam = anakayam-1\n",
    "    i = 1\n",
    "    if anakayam == 1:\n",
    "        print('anak ayam turun', i, 'mati 1 tinggal induknya \\nanak ayam lucu banget deh ;)')\n",
    "        break"
   ]
  },
  {
   "cell_type": "code",
   "execution_count": 9,
   "metadata": {},
   "outputs": [
    {
     "name": "stdout",
     "output_type": "stream",
     "text": [
      "anak ayam turun 12 mati 1 tinggal 11\n",
      "anak ayam turun 11 mati 1 tinggal 10\n",
      "anak ayam turun 10 mati 1 tinggal 9\n",
      "anak ayam turun 9 mati 1 tinggal 8\n",
      "anak ayam turun 8 mati 1 tinggal 7\n",
      "anak ayam turun 7 mati 1 tinggal 6\n",
      "anak ayam turun 6 mati 1 tinggal 5\n",
      "anak ayam turun 5 mati 1 tinggal 4\n",
      "anak ayam turun 4 mati 1 tinggal 3\n",
      "anak ayam turun 3 mati 1 tinggal 2\n",
      "anak ayam turun 2 mati 1 tinggal 1\n",
      "anak ayam turun 1 mati 1 tinggal induknya \n",
      "anak ayam lucu banget deh ;)\n"
     ]
    }
   ],
   "source": [
    "i = 12\n",
    "while i <= 12:\n",
    "    print('anak ayam turun', i, 'mati 1 tinggal', i-1)\n",
    "    if i == 2:\n",
    "        print('anak ayam turun 1 mati 1 tinggal induknya \\nanak ayam lucu banget deh ;)') \n",
    "        break\n",
    "    i -= 1"
   ]
  },
  {
   "cell_type": "markdown",
   "metadata": {},
   "source": [
    "# No. 3"
   ]
  },
  {
   "cell_type": "code",
   "execution_count": 6,
   "metadata": {},
   "outputs": [
    {
     "name": "stdout",
     "output_type": "stream",
     "text": [
      "checkthisword(\"madam\") -> True\n",
      "checkthisword(\"sayasuka\") -> False\n",
      "checkthisword(\"rotor\") -> True\n"
     ]
    }
   ],
   "source": [
    "def is_palindrome(word):\n",
    "        if len(word) <= 1:\n",
    "            return True\n",
    "        elif word[0] != word[-1]:\n",
    "            return False\n",
    "        return is_palindrome(word[1:-1])\n",
    "    \n",
    "print('checkthisword(\"madam\") ->', is_palindrome('madam'))\n",
    "print('checkthisword(\"sayasuka\") ->', is_palindrome('sayasuka'))\n",
    "print('checkthisword(\"rotor\") ->', is_palindrome('rotor'))"
   ]
  },
  {
   "cell_type": "code",
   "execution_count": 6,
   "metadata": {},
   "outputs": [
    {
     "name": "stdout",
     "output_type": "stream",
     "text": [
      "checkthisword(\"madam\")-> True\n"
     ]
    }
   ],
   "source": [
    "def isPalindrome(s):\n",
    "    l = len(s)\n",
    "    if l < 2:\n",
    "        return True\n",
    "    elif s[0] == s[l - 1]:\n",
    "        return isPalindrome(s[1: l - 1])\n",
    "    else:\n",
    "        return False\n",
    "s = 'madam'\n",
    "ans = isPalindrome(s)\n",
    "if ans:\n",
    "    print('checkthisword(\"madam\")-> True')\n",
    "else:\n",
    "    print('checkthisword(\"madam\")-> False')"
   ]
  },
  {
   "cell_type": "code",
   "execution_count": 11,
   "metadata": {},
   "outputs": [
    {
     "name": "stdout",
     "output_type": "stream",
     "text": [
      "False\n"
     ]
    }
   ],
   "source": [
    "def isPalindrome(s):\n",
    "    l = len(s)\n",
    "    if l < 2:\n",
    "        return True\n",
    "    elif s[0] == s[l - 1]:\n",
    "        return isPalindrome(s[1: l - 1])\n",
    "    else:\n",
    "        return False\n",
    "s = 'sayasuka'\n",
    "ans = isPalindrome(s)\n",
    "if ans:\n",
    "    print('True')\n",
    "else:\n",
    "    print('False')"
   ]
  },
  {
   "cell_type": "code",
   "execution_count": 7,
   "metadata": {},
   "outputs": [
    {
     "name": "stdout",
     "output_type": "stream",
     "text": [
      "True\n"
     ]
    }
   ],
   "source": [
    "def isPalindrome(s):\n",
    "    l = len(s)\n",
    "    if l < 2:\n",
    "        return True\n",
    "    elif s[0] == s[l - 1]:\n",
    "        return isPalindrome(s[1: l - 1])\n",
    "    else:\n",
    "        return False\n",
    "s = 'rotor'\n",
    "ans = isPalindrome(s)\n",
    "if ans:\n",
    "    print('True')\n",
    "else:\n",
    "    print('False')"
   ]
  },
  {
   "cell_type": "code",
   "execution_count": 1,
   "metadata": {},
   "outputs": [
    {
     "name": "stdout",
     "output_type": "stream",
     "text": [
      "checkthisword(\" madam \") -> True\n",
      "checkthisword(\" sayasuka \") -> False\n",
      "checkthisword(\" rotor \") -> True\n"
     ]
    }
   ],
   "source": [
    "def isPalindrome(s) :\n",
    "    rev = ''.join(reversed(s))\n",
    "    \n",
    "    if(s==rev):\n",
    "        return True\n",
    "    else:\n",
    "        return False\n",
    "\n",
    "s=['madam', 'sayasuka', 'rotor']\n",
    "ans=isPalindrome(s)\n",
    "\n",
    "for i in range(len(s)):\n",
    "    if(ans):\n",
    "        print('checkthisword(\"',s[i],'\") ->', isPalindrome(s[i]))\n",
    "    else:\n",
    "        print('checkthisword(\"',s[i],'\") ->', isPalindrome(s[i]))"
   ]
  }
 ],
 "metadata": {
  "kernelspec": {
   "display_name": "Python 3",
   "language": "python",
   "name": "python3"
  },
  "language_info": {
   "codemirror_mode": {
    "name": "ipython",
    "version": 3
   },
   "file_extension": ".py",
   "mimetype": "text/x-python",
   "name": "python",
   "nbconvert_exporter": "python",
   "pygments_lexer": "ipython3",
   "version": "3.8.5"
  }
 },
 "nbformat": 4,
 "nbformat_minor": 4
}
